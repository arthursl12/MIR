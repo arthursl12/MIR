{
 "cells": [
  {
   "cell_type": "markdown",
   "metadata": {
    "id": "Xq4zq2Swzaeb"
   },
   "source": [
    "# Representações\n",
    "\n",
    "**Objetivos**\n",
    "1. Entender as diferentes representações de música\n",
    "1. Treinar um pouco de música com music21\n",
    "\n",
    "**Resultado Esperado**\n",
    "1. Uma base nem conceitos simples de música e representações para o resto do curso\n",
    "\n",
    "## Pacotes Necessários\n",
    "\n",
    "Para conseguir entender um pouco de música e midi, será necessária a instalação do pacote [Music21](https://web.mit.edu/music21/). Instale o pacote no seu ambiente anaconda configurado no primeiro lab. O mesmo serve para tocar e manipular arquivos midi e MusicXML. Para instalar o pacote execute o comando abaixo em um terminal.\n",
    "\n",
    "```bash\n",
    "pip install music21\n",
    "```\n",
    "\n",
    "Além do Music21, instale os programas:\n",
    "\n",
    "1. [Lilypond](http://lilypond.org/)\n",
    "1. [MuseScore](https://musescore.com/)\n",
    "\n",
    "\n",
    "### Configurando o Music21\n",
    "\n",
    "Os dois são necessários para que o music21 funcione. Depois de instalar os programas execute os comandos abaixo em um Notebook ou prompt Python.\n",
    "\n",
    "```python\n",
    "from music21 import *\n",
    "configure.run()\n",
    "```\n",
    "\n",
    "*Caso o Music21 não funcione*\n",
    "\n",
    "O comando acima deve configurar automaticamente o Music21. Caso não funcione, altere o arquivo `~/.music21rc`. Isto deve ser algo como `/home/usuario/.music21rc` no Linux ou WSL, `/Users/usuario/.music21rc`, ou `music21-settings.xml` no diretório Dados de Aplicatio (Application Data) no Windows. \n",
    "\n",
    "Garanta que os caminhos apontam para os executáveis dos aplicatiovos. No Windows serão os .exe de cada um. Abaixo coloco as entradas corretas para um ambiente Windows.\n",
    "\n",
    "```\n",
    "<settings encoding=\"utf-8\">\n",
    "  ...\n",
    "  <preference name=\"lilypondPath\" value=\"/usr/bin/lilypond\" />\n",
    "  <preference name=\"musescoreDirectPNGPath\" value=\"/usr/bin/musescore\" />\n",
    "  <preference name=\"musicxmlPath\" value=\"/usr/bin/musescore\" />\n",
    "  ...\n",
    "</settings>\n",
    "```\n",
    "\n",
    "## Imports Básicos"
   ]
  },
  {
   "cell_type": "code",
   "execution_count": null,
   "metadata": {},
   "outputs": [],
   "source": []
  },
  {
   "cell_type": "code",
   "execution_count": 1,
   "metadata": {
    "id": "MShe5G-Qzaer"
   },
   "outputs": [],
   "source": [
    "from music21 import *\n",
    "\n",
    "import librosa\n",
    "import librosa.display\n",
    "\n",
    "import IPython.display as ipd\n",
    "\n",
    "import matplotlib.pyplot as plt\n",
    "import numpy as np\n",
    "import pandas as pd\n",
    "\n",
    "plt.rcParams['axes.labelsize']  = 20\n",
    "plt.rcParams['axes.titlesize']  = 20\n",
    "plt.rcParams['legend.fontsize'] = 20\n",
    "plt.rcParams['xtick.labelsize'] = 20\n",
    "plt.rcParams['ytick.labelsize'] = 20\n",
    "plt.rcParams['lines.linewidth'] = 4\n",
    "\n",
    "plt.ion()"
   ]
  },
  {
   "cell_type": "markdown",
   "metadata": {
    "id": "VchBN_4Jzaev"
   },
   "source": [
    "## Parte 1: Notas Musicais\n",
    "\n",
    "Na aula nós vimos que toda nota musical representa uma frequência. Com o music21, podemos tocar uma nota da forma abaixo."
   ]
  },
  {
   "cell_type": "code",
   "execution_count": 2,
   "metadata": {
    "colab": {
     "base_uri": "https://localhost:8080/",
     "height": 191
    },
    "id": "fnrXirQizaex",
    "outputId": "29267695-40dc-4a50-b94e-4a551b962229"
   },
   "outputs": [
    {
     "data": {
      "text/html": [
       "\n",
       "                <div id='midiPlayerDiv13'></div>\n",
       "                <link rel=\"stylesheet\" href=\"//cuthbertLab.github.io/music21j/css/m21.css\"\n",
       "                    type=\"text/css\" />\n",
       "                <script>\n",
       "                require.config({\n",
       "                    paths: {'music21': '//cuthbertLab.github.io/music21j/src/music21'}\n",
       "                });\n",
       "                require(['music21'], function() {\n",
       "                               mp = new music21.miditools.MidiPlayer();\n",
       "                               mp.addPlayer('#midiPlayerDiv13');\n",
       "                               mp.base64Load('data:audio/midi;base64,TVRoZAAAAAYAAQACBABNVHJrAAAAFAD/UQMHoSAA/1gEBAIYCIgA/y8ATVRyawAAABcA/wMAAOAAQIgAkENaiACAQwCIAP8vAA==');\n",
       "                        });\n",
       "                </script>"
      ],
      "text/plain": [
       "<IPython.core.display.HTML object>"
      ]
     },
     "metadata": {},
     "output_type": "display_data"
    }
   ],
   "source": [
    "n = note.Note('G4')\n",
    "n.show('midi')"
   ]
  },
  {
   "cell_type": "markdown",
   "metadata": {
    "id": "y0JQFdGTzaey"
   },
   "source": [
    "Podemos pegar a frequência com o código abaixo."
   ]
  },
  {
   "cell_type": "code",
   "execution_count": 3,
   "metadata": {
    "id": "O86vSWLpzae0"
   },
   "outputs": [
    {
     "name": "stdout",
     "output_type": "stream",
     "text": [
      "391.99543598174927\n"
     ]
    }
   ],
   "source": [
    "print(n.pitch.frequency)"
   ]
  },
  {
   "cell_type": "markdown",
   "metadata": {
    "id": "669wFLS5zae3"
   },
   "source": [
    "**Questão 01:** Crie uma função Python (abaixo) que aumenta *uma oitava* na nota musical, isto é, recebe um nome de uma nota e retorna **uma nova nova** uma oitava acima. Leia a documentação do music21 ou faça um código em python na mão mesmo."
   ]
  },
  {
   "cell_type": "code",
   "execution_count": 4,
   "metadata": {
    "id": "rO1TB2eUzae6"
   },
   "outputs": [],
   "source": [
    "def aumenta_oitava(n: note.Note):\n",
    "    n.octave += 1"
   ]
  },
  {
   "cell_type": "code",
   "execution_count": 5,
   "metadata": {},
   "outputs": [
    {
     "data": {
      "text/html": [
       "\n",
       "                <div id='midiPlayerDiv27'></div>\n",
       "                <link rel=\"stylesheet\" href=\"//cuthbertLab.github.io/music21j/css/m21.css\"\n",
       "                    type=\"text/css\" />\n",
       "                <script>\n",
       "                require.config({\n",
       "                    paths: {'music21': '//cuthbertLab.github.io/music21j/src/music21'}\n",
       "                });\n",
       "                require(['music21'], function() {\n",
       "                               mp = new music21.miditools.MidiPlayer();\n",
       "                               mp.addPlayer('#midiPlayerDiv27');\n",
       "                               mp.base64Load('data:audio/midi;base64,TVRoZAAAAAYAAQACBABNVHJrAAAAFAD/UQMHoSAA/1gEBAIYCIgA/y8ATVRyawAAABcA/wMAAOAAQIgAkE9aiACATwCIAP8vAA==');\n",
       "                        });\n",
       "                </script>"
      ],
      "text/plain": [
       "<IPython.core.display.HTML object>"
      ]
     },
     "metadata": {},
     "output_type": "display_data"
    }
   ],
   "source": [
    "aumenta_oitava(n)\n",
    "n.show('midi')"
   ]
  },
  {
   "cell_type": "code",
   "execution_count": 6,
   "metadata": {},
   "outputs": [
    {
     "name": "stdout",
     "output_type": "stream",
     "text": [
      "783.990871963499\n"
     ]
    }
   ],
   "source": [
    "print(n.pitch.frequency)"
   ]
  },
  {
   "cell_type": "markdown",
   "metadata": {
    "id": "qqf5alH0zae9"
   },
   "source": [
    "**Questão 02:** Escreva no markdown abaixo como aumentar uma oitava muda a frequência."
   ]
  },
  {
   "cell_type": "markdown",
   "metadata": {
    "id": "11FJQhkjzafA"
   },
   "source": [
    "**Resposta**: Musicalmente, aumentar uma oitava significa fisicamente dobrar a frequência da nota em questão."
   ]
  },
  {
   "cell_type": "markdown",
   "metadata": {
    "id": "0xhiG5PNzafD"
   },
   "source": [
    "## Parte 2: Midi e Partituras\n",
    "\n",
    "**Questão 03** Indique quais notas são tocadas na melodia abaixo. Por exemplo, caso seja do-re-mi, a resposta é 'c4 d4 e4'. Lembre-se que isso é uma clave de sol. A clave indica o local do dó,fica: **na linha tocada pelo extremo mais direito do & (e comercial).** O sol indicado pela clave é o 'g4'.\n",
    "\n",
    "![](./q02.png)"
   ]
  },
  {
   "cell_type": "markdown",
   "metadata": {
    "id": "ZGKIfTzLzafE"
   },
   "source": [
    "**Resposta**: A clave acima é uma clave de sol, a qual indica que a segunda linha (de baixo para cima), onde o símbolo toca o pentagrama, é a nota sol ('g4'). Assim, as notas, sequenciamente, são: 'g4 f4 g4 c4 b4 c4'."
   ]
  },
  {
   "cell_type": "markdown",
   "metadata": {
    "id": "z5pV2nl1zafH"
   },
   "source": [
    "**Questão 04** Crie um código que gera as primeiras n posições de fibonacci. A sequência começa de com `[0, 1]`. Estas são as duas primeiras posições. Com as n-posições, gere uma melodia em music21 que inicia de `eb4`.\n",
    "\n",
    "Para cada valor da sequência você vai iniciar do valor `eb4` (mi bemol na quarta oitava) e subir um semi-tom. Lembrando que temos 12 semitons na escala cromática abaixo. \n",
    "\n",
    "![](./cromo.jpg)\n",
    "\n",
    "Abaixo temos a primeira nota."
   ]
  },
  {
   "cell_type": "code",
   "execution_count": 7,
   "metadata": {
    "id": "o9PBzoX7zafI"
   },
   "outputs": [
    {
     "data": {
      "image/png": "[encoded data removed]",
      "text/plain": [
       "<IPython.core.display.Image object>"
      ]
     },
     "metadata": {
      "image/png": {
       "height": 49,
       "width": 159
      }
     },
     "output_type": "display_data"
    }
   ],
   "source": [
    "n = note.Note(\"eb4\")\n",
    "n.show()"
   ]
  },
  {
   "cell_type": "code",
   "execution_count": 8,
   "metadata": {
    "id": "1nsePe4AzafK"
   },
   "outputs": [
    {
     "data": {
      "text/plain": [
       "'mi bèmol'"
      ]
     },
     "execution_count": 8,
     "metadata": {},
     "output_type": "execute_result"
    }
   ],
   "source": [
    "n.pitch.spanish"
   ]
  },
  {
   "cell_type": "markdown",
   "metadata": {
    "id": "2gV2UJmszafK"
   },
   "source": [
    "Ao somar um tempos que ir para `mi` (e4). Ao somar dois para `fa` (f4). Abaixo temos um exemplo com os primeiros números da sequência:\n",
    "\n",
    "`0 1 1 2 3 5 8`."
   ]
  },
  {
   "cell_type": "code",
   "execution_count": 9,
   "metadata": {
    "id": "WI-uowISzafL"
   },
   "outputs": [
    {
     "name": "stderr",
     "output_type": "stream",
     "text": [
      "/home/arthur/.local/lib/python3.8/site-packages/music21/musicxml/m21ToXml.py:464: MusicXMLWarning: <music21.stream.Score 0x7f9bcfdb6a30> is not well-formed; see isWellFormedNotation()\n",
      "  warnings.warn(f'{scOut} is not well-formed; see isWellFormedNotation()',\n"
     ]
    },
    {
     "data": {
      "image/png": "[encoded data removed]",
      "text/plain": [
       "<IPython.core.display.Image object>"
      ]
     },
     "metadata": {
      "image/png": {
       "height": 49,
       "width": 364
      }
     },
     "output_type": "display_data"
    }
   ],
   "source": [
    "score = stream.Score()\n",
    "txt_notes = ['eb4', 'e4', 'e4', 'f4', 'gb4', 'ab4']  # observe que seguimos no b4, vamos para 5 depois do si.\n",
    "for name in txt_notes:\n",
    "    score.append(note.Note(name))\n",
    "score.show()"
   ]
  },
  {
   "cell_type": "code",
   "execution_count": 10,
   "metadata": {
    "id": "z4ltvQszzafM"
   },
   "outputs": [
    {
     "data": {
      "text/html": [
       "\n",
       "                <div id='midiPlayerDiv202'></div>\n",
       "                <link rel=\"stylesheet\" href=\"//cuthbertLab.github.io/music21j/css/m21.css\"\n",
       "                    type=\"text/css\" />\n",
       "                <script>\n",
       "                require.config({\n",
       "                    paths: {'music21': '//cuthbertLab.github.io/music21j/src/music21'}\n",
       "                });\n",
       "                require(['music21'], function() {\n",
       "                               mp = new music21.miditools.MidiPlayer();\n",
       "                               mp.addPlayer('#midiPlayerDiv202');\n",
       "                               mp.base64Load('data:audio/midi;base64,TVRoZAAAAAYAAQACBABNVHJrAAAAFAD/UQMHoSAA/1gEBAIYCIgA/y8ATVRyawAAAEQA/wMAAOAAQIgAkD9aiACAPwAAkEBaiACAQAAAkEBaiACAQAAAkEFaiACAQQAAkEJaiACAQgAAkERaiACARACIAP8vAA==');\n",
       "                        });\n",
       "                </script>"
      ],
      "text/plain": [
       "<IPython.core.display.HTML object>"
      ]
     },
     "metadata": {},
     "output_type": "display_data"
    }
   ],
   "source": [
    "score.show('midi')"
   ]
  },
  {
   "cell_type": "markdown",
   "metadata": {
    "id": "-GWBTdn1zafN"
   },
   "source": [
    "Porém, fazer esse código na mão pode ser chato. Portanto, podemos usar MIDI!  A equação abaixo retorna uma frequência com base em seu código MIDI.\n",
    "\n",
    "$$F(p) = 2^{\\frac{p-69}{12}} 440$$\n",
    "\n",
    "A4 em MIDI é 69. Entre A4 e A5 existem 12 semi-tons na escala cromática. A5 tem o dobro da frequêncdia de A4. Assim, podemos pensar nessa equação da seguinte forma. Para sair de A4 para A5 precisamos multiplicar por 2.\n",
    "\n",
    "$$F(p) = 2 \\cdots 440 $$\n",
    "\n",
    "Só que esse intervalo é quebrado em 12 semi-tons, cada um crescendo em escala log.\n",
    "\n",
    "$$F(p) = 2^{\\frac{p-?}{12}} 440 $$\n",
    "\n",
    "Assim as notas até A5 vão crescer iniciando de A4 multiplicando A4 por: $2^{1/12}$, $2^{1/12}$, $2^{1/12}$, $2^{1/12}$, $\\cdots$, $2^{12/12}$. Esta última é 2x A4.\n",
    "\n",
    "Como MIDI inicia em 69. Chegamos em:\n",
    "\n",
    "$$F(p) = 2^{\\frac{p-69}{12}} 440 $$\n",
    "\n",
    "Assim podemos caminhar via midi como abaixo!"
   ]
  },
  {
   "cell_type": "code",
   "execution_count": 12,
   "metadata": {
    "id": "1M49O4RRzafP"
   },
   "outputs": [
    {
     "data": {
      "text/plain": [
       "<music21.note.Note E->"
      ]
     },
     "execution_count": 12,
     "metadata": {},
     "output_type": "execute_result"
    }
   ],
   "source": [
    "note.Note(pitch.Pitch(69 + 6))"
   ]
  },
  {
   "cell_type": "code",
   "execution_count": 28,
   "metadata": {
    "id": "mtKm5MxLzafQ"
   },
   "outputs": [],
   "source": [
    "def fibo(n: int):\n",
    "    \"\"\"\n",
    "    Retorna uma lista de números da sequência Fibonacci com 'n' elementos\n",
    "    \"\"\"\n",
    "    if (n == 0):\n",
    "        return []\n",
    "    elif (n == 1):\n",
    "        return [0]\n",
    "    else:\n",
    "        seq = [0,1]\n",
    "        i = 2\n",
    "        while(len(seq) < n):\n",
    "            seq.append(seq[i-1]+seq[i-2])\n",
    "            i += 1\n",
    "        return seq\n",
    "\n",
    "def fibo_melody(n: int):\n",
    "    sequencia = fibo(n)\n",
    "    music = stream.Score()\n",
    "    inicial = 69 + 6     # eb4 inicial\n",
    "    \n",
    "    for num in sequencia:\n",
    "        music.append(note.Note(pitch.Pitch(inicial + num)))\n",
    "#     music.show()\n",
    "#     music.show('midi')\n",
    "    return music"
   ]
  },
  {
   "cell_type": "code",
   "execution_count": 30,
   "metadata": {
    "id": "EHba7k6azafS"
   },
   "outputs": [
    {
     "name": "stderr",
     "output_type": "stream",
     "text": [
      "/home/arthur/.local/lib/python3.8/site-packages/music21/musicxml/m21ToXml.py:464: MusicXMLWarning: <music21.stream.Score 0x7f9c2c51c4c0> is not well-formed; see isWellFormedNotation()\n",
      "  warnings.warn(f'{scOut} is not well-formed; see isWellFormedNotation()',\n"
     ]
    },
    {
     "data": {
      "image/png": "[encoded data removed]",
      "text/plain": [
       "<IPython.core.display.Image object>"
      ]
     },
     "metadata": {
      "image/png": {
       "height": 224,
       "width": 748
      }
     },
     "output_type": "display_data"
    },
    {
     "data": {
      "text/html": [
       "\n",
       "                <div id='midiPlayerDiv1575'></div>\n",
       "                <link rel=\"stylesheet\" href=\"//cuthbertLab.github.io/music21j/css/m21.css\"\n",
       "                    type=\"text/css\" />\n",
       "                <script>\n",
       "                require.config({\n",
       "                    paths: {'music21': '//cuthbertLab.github.io/music21j/src/music21'}\n",
       "                });\n",
       "                require(['music21'], function() {\n",
       "                               mp = new music21.miditools.MidiPlayer();\n",
       "                               mp.addPlayer('#midiPlayerDiv1575');\n",
       "                               mp.base64Load('data:audio/midi;base64,TVRoZAAAAAYAAQACBABNVHJrAAAAFAD/UQMHoSAA/1gEBAIYCIgA/y8ATVRyawAAAHoA/wMAAOAAQIgAkEtaiACASwAAkExaiACATAAAkExaiACATAAAkE1aiACATQAAkE5aiACATgAAkFBaiACAUAAAkFNaiACAUwAAkFhaiACAWAAAkGBaiACAYAAAkG1aiACAbQAAkHZaiACAdgAAkHRaiACAdACIAP8vAA==');\n",
       "                        });\n",
       "                </script>"
      ],
      "text/plain": [
       "<IPython.core.display.HTML object>"
      ]
     },
     "metadata": {},
     "output_type": "display_data"
    }
   ],
   "source": [
    "s = fibo_melody(12)\n",
    "s.show()\n",
    "s.show('midi')"
   ]
  },
  {
   "cell_type": "markdown",
   "metadata": {
    "id": "4d0sWElKzafS"
   },
   "source": [
    "**Questão 5** Plote o piano roll da sua música abaixo. Use `score.plot('pianoroll')`"
   ]
  },
  {
   "cell_type": "code",
   "execution_count": 31,
   "metadata": {
    "id": "VrLBk-7uzafT"
   },
   "outputs": [
    {
     "data": {
      "text/plain": [
       "<music21.graph.plot.HorizontalBarPitchSpaceOffset for <music21.stream.Score 0x7f9bcfa22bb0>>"
      ]
     },
     "execution_count": 31,
     "metadata": {},
     "output_type": "execute_result"
    },
    {
     "data": {
      "image/png": "[encoded data removed]",
      "text/plain": [
       "<Figure size 720x432 with 1 Axes>"
      ]
     },
     "metadata": {
      "image/png": {
       "height": 382,
       "width": 592
      }
     },
     "output_type": "display_data"
    }
   ],
   "source": [
    "s.plot('pianoroll')"
   ]
  },
  {
   "cell_type": "markdown",
   "metadata": {
    "id": "vMNNRpVczafU"
   },
   "source": [
    "**Questão 6** Gere um XML da sua melodia. Leia o mesmo, só pelo esporte.\n",
    "\n",
    "> Indique aqui, professor eu li."
   ]
  },
  {
   "cell_type": "code",
   "execution_count": 32,
   "metadata": {},
   "outputs": [
    {
     "name": "stderr",
     "output_type": "stream",
     "text": [
      "/home/arthur/.local/lib/python3.8/site-packages/music21/musicxml/m21ToXml.py:464: MusicXMLWarning: <music21.stream.Score 0x7f9bca73ce80> is not well-formed; see isWellFormedNotation()\n",
      "  warnings.warn(f'{scOut} is not well-formed; see isWellFormedNotation()',\n"
     ]
    },
    {
     "data": {
      "text/plain": [
       "<music21.stream.Score 0x7f9bca73ce80>"
      ]
     },
     "execution_count": 32,
     "metadata": {},
     "output_type": "execute_result"
    }
   ],
   "source": [
    "GEX = musicxml.m21ToXml.GeneralObjectExporter()\n",
    "xml = GEX.fromGeneralObject(s)\n",
    "xml"
   ]
  },
  {
   "cell_type": "code",
   "execution_count": 33,
   "metadata": {},
   "outputs": [
    {
     "name": "stdout",
     "output_type": "stream",
     "text": [
      "{0.0} <music21.stream.Measure 1 offset=0.0>\n",
      "    {0.0} <music21.clef.Treble8vaClef>\n",
      "    {0.0} <music21.meter.TimeSignature 4/4>\n",
      "    {0.0} <music21.note.Note E->\n",
      "    {1.0} <music21.note.Note E>\n",
      "    {2.0} <music21.note.Note E>\n",
      "    {3.0} <music21.note.Note F>\n",
      "{4.0} <music21.stream.Measure 2 offset=4.0>\n",
      "    {0.0} <music21.note.Note F#>\n",
      "    {1.0} <music21.note.Note G#>\n",
      "    {2.0} <music21.note.Note B>\n",
      "    {3.0} <music21.note.Note E>\n",
      "{8.0} <music21.stream.Measure 3 offset=8.0>\n",
      "    {0.0} <music21.note.Note C>\n",
      "    {1.0} <music21.note.Note C#>\n",
      "    {2.0} <music21.note.Note B->\n",
      "    {3.0} <music21.note.Note G#>\n",
      "    {4.0} <music21.bar.Barline type=final>\n"
     ]
    }
   ],
   "source": [
    "xml.show('t')"
   ]
  },
  {
   "cell_type": "code",
   "execution_count": null,
   "metadata": {},
   "outputs": [],
   "source": []
  }
 ],
 "metadata": {
  "colab": {
   "name": "lab01.ipynb",
   "provenance": []
  },
  "kernelspec": {
   "display_name": "Python 3",
   "language": "python",
   "name": "python3"
  },
  "language_info": {
   "codemirror_mode": {
    "name": "ipython",
    "version": 3
   },
   "file_extension": ".py",
   "mimetype": "text/x-python",
   "name": "python",
   "nbconvert_exporter": "python",
   "pygments_lexer": "ipython3",
   "version": "3.8.10"
  },
  "toc": {
   "base_numbering": 1,
   "nav_menu": {},
   "number_sections": true,
   "sideBar": true,
   "skip_h1_title": false,
   "title_cell": "Table of Contents",
   "title_sidebar": "Contents",
   "toc_cell": false,
   "toc_position": {},
   "toc_section_display": true,
   "toc_window_display": false
  }
 },
 "nbformat": 4,
 "nbformat_minor": 1
}
